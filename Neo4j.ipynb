{
  "nbformat": 4,
  "nbformat_minor": 0,
  "metadata": {
    "colab": {
      "provenance": [],
      "include_colab_link": true
    },
    "kernelspec": {
      "name": "python3",
      "display_name": "Python 3"
    },
    "language_info": {
      "name": "python"
    }
  },
  "cells": [
    {
      "cell_type": "markdown",
      "metadata": {
        "id": "view-in-github",
        "colab_type": "text"
      },
      "source": [
        "<a href=\"https://colab.research.google.com/github/kaleabMelkamu/3go/blob/master/Neo4j.ipynb\" target=\"_parent\"><img src=\"https://colab.research.google.com/assets/colab-badge.svg\" alt=\"Open In Colab\"/></a>"
      ]
    },
    {
      "cell_type": "markdown",
      "source": [
        "###Install dependancies"
      ],
      "metadata": {
        "id": "WKs_biJbrQje"
      }
    },
    {
      "cell_type": "code",
      "execution_count": 1,
      "metadata": {
        "colab": {
          "base_uri": "https://localhost:8080/"
        },
        "id": "LuFb7KgryMT-",
        "outputId": "11d9e56a-f856-4d52-cd60-a273cfc74712"
      },
      "outputs": [
        {
          "output_type": "stream",
          "name": "stdout",
          "text": [
            "Collecting neo4j\n",
            "  Downloading neo4j-5.23.1-py3-none-any.whl.metadata (5.7 kB)\n",
            "Requirement already satisfied: pytz in /usr/local/lib/python3.10/dist-packages (from neo4j) (2024.1)\n",
            "Downloading neo4j-5.23.1-py3-none-any.whl (293 kB)\n",
            "\u001b[2K   \u001b[90m━━━━━━━━━━━━━━━━━━━━━━━━━━━━━━━━━━━━━━━━\u001b[0m \u001b[32m293.6/293.6 kB\u001b[0m \u001b[31m4.0 MB/s\u001b[0m eta \u001b[36m0:00:00\u001b[0m\n",
            "\u001b[?25hInstalling collected packages: neo4j\n",
            "Successfully installed neo4j-5.23.1\n"
          ]
        }
      ],
      "source": [
        "!pip install neo4j"
      ]
    },
    {
      "cell_type": "markdown",
      "source": [
        "### Instantiate Neo4j"
      ],
      "metadata": {
        "id": "bq16AtuArTDA"
      }
    },
    {
      "cell_type": "code",
      "source": [
        "from neo4j import GraphDatabase\n",
        "from google.colab import userdata"
      ],
      "metadata": {
        "id": "K_huzvr3zTQE"
      },
      "execution_count": 2,
      "outputs": []
    },
    {
      "cell_type": "code",
      "source": [
        "uri = userdata.get(\"neo4j+s://d03fc2ed.databases.neo4j.io\")\n",
        "user = userdata.get(\"neo4j\")\n",
        "password = userdata.get(\"2_7Qmvbz6bu0FdVDg4UdAm6JQrrzb6A-iYc7w30DRYg\")"
      ],
      "metadata": {
        "id": "2VL3PwGczi34"
      },
      "execution_count": 3,
      "outputs": []
    },
    {
      "cell_type": "code",
      "source": [
        "driver = GraphDatabase.driver(uri, auth=(user, password))"
      ],
      "metadata": {
        "id": "PbKhFGUa03PF"
      },
      "execution_count": 4,
      "outputs": []
    },
    {
      "cell_type": "code",
      "source": [
        "def run_query(query, parameters=None):\n",
        "    with driver.session() as session:\n",
        "        results = session.run(query, parameters)\n",
        "        return [dict(record) for record in results]"
      ],
      "metadata": {
        "id": "iu7bnP7G1bdG"
      },
      "execution_count": 5,
      "outputs": []
    },
    {
      "cell_type": "markdown",
      "source": [
        "### Run queries"
      ],
      "metadata": {
        "id": "miBI5T79rZxX"
      }
    },
    {
      "cell_type": "code",
      "source": [
        "# query = \"MATCH (n) RETURN n\"\n",
        "query = \"\"\"\n",
        "CREATE\n",
        "(russell:PLAYER{name:\"Russell Westbrook\", age: 33, number: 0, height: 1.91, weight: 91}),\n",
        "(lebron:PLAYER{name:\"LeBron James\", age: 36, number: 6, height: 2.06, weight: 113}),\n",
        "(anthony:PLAYER{name:\"Anthony Davis\", age: 28, number: 23, height: 2.08, weight: 115}),\n",
        "(ja:PLAYER{name:\"Ja Morant\", age: 22, number: 12, height: 1.91, weight: 79}),\n",
        "(luka:PLAYER{name:\"Luka Doncic\", age: 22, number: 77, height: 2.01, weight: 104}),\n",
        "(kristaps:PLAYER{name:\"Kristaps Porzingis\", age: 26, number: 6, height: 2.21, weight: 109}),\n",
        "(kevin:PLAYER{name:\"Kevin Durant\", age: 33, number: 7, height: 2.08, weight: 109}),\n",
        "(james:PLAYER{name:\"James Harden\", age: 32, number: 13, height: 1.96, weight: 100}),\n",
        "(giannis:PLAYER{name:\"Giannis Antetokounmpo\", age: 26, number: 34, height: 2.11, weight: 110}),\n",
        "(khris:PLAYER{name:\"Khris Middleton\", age: 30, number: 22, height: 2.01, weight: 100}),\n",
        "(joel:PLAYER{name:\"Joel Embiid\", age: 27, number: 21, height: 2.13, weight: 127}),\n",
        "(tobias:PLAYER{name:\"Tobias Harris\", age: 29, number: 22, height: 2.03, weight: 100}),\n",
        "\n",
        "(frank:COACH{name: \"Frank Vogel\"}),\n",
        "(taylor:COACH{name: \"Taylor Jenkins\"}),\n",
        "(jason:COACH{name: \"Jason Kidd\"}),\n",
        "(steve:COACH{name: \"Steve Nash\"}),\n",
        "(mike:COACH{name: \"Mike Budenholzer\"}),\n",
        "(doc:COACH{name: \"Doc Rivers\"}),\n",
        "(stan:COACH{name: \"Stan Van Gundy\"}),\n",
        "\n",
        "(lakers:TEAM{name:\"LA Lakers\"}),\n",
        "(memphis:TEAM{name:\"Memphis Grizzlies\"}),\n",
        "(mavericks:TEAM{name:\"Dallas Mavericks\"}),\n",
        "(nets:TEAM{name:\"Brooklyn Nets\"}),\n",
        "(bucks:TEAM{name:\"Milwaukee Bucks\"}),\n",
        "(sixers:TEAM{name:\"Philadelphia 76ers\"}),\n",
        "\n",
        "(lebron)-[:TEAMMATES]-> (russell),\n",
        "(lebron)<-[:TEAMMATES]- (russell),\n",
        "(lebron)-[:TEAMMATES]-> (anthony),\n",
        "(lebron)<-[:TEAMMATES]- (anthony),\n",
        "(russell)-[:TEAMMATES]-> (anthony),\n",
        "(russell)<-[:TEAMMATES]- (anthony),\n",
        "(luka)-[:TEAMMATES]-> (kristaps),\n",
        "(luka)<-[:TEAMMATES]- (kristaps),\n",
        "(kevin)-[:TEAMMATES]-> (james),\n",
        "(kevin)<-[:TEAMMATES]- (james),\n",
        "(giannis)-[:TEAMMATES]-> (khris),\n",
        "(giannis)<-[:TEAMMATES]- (khris),\n",
        "(joel)-[:TEAMMATES]-> (tobias),\n",
        "(joel)<-[:TEAMMATES]- (tobias),\n",
        "\n",
        "(frank)-[:COACHES]->(lebron),\n",
        "(frank)-[:COACHES]->(anthony),\n",
        "(frank)-[:COACHES]->(russell),\n",
        "(taylor)-[:COACHES]->(ja),\n",
        "(jason)-[:COACHES]->(luka),\n",
        "(jason)-[:COACHES]->(kristaps),\n",
        "(steve)-[:COACHES]->(kevin),\n",
        "(steve)-[:COACHES]->(james),\n",
        "(mike)-[:COACHES]->(giannis),\n",
        "(mike)-[:COACHES]->(khris),\n",
        "(doc)-[:COACHES]->(tobias),\n",
        "(doc)-[:COACHES]->(joel),\n",
        "\n",
        "(lebron)-[:PLAYS_FOR {salary: 40000000}]-> (lakers),\n",
        "(russell)-[:PLAYS_FOR {salary: 33000000}]-> (lakers),\n",
        "(anthony)-[:PLAYS_FOR {salary: 38000000}]-> (lakers),\n",
        "(ja)-[:PLAYS_FOR {salary: 8000000}]-> (memphis),\n",
        "(luka)-[:PLAYS_FOR {salary: 50000000}]-> (mavericks),\n",
        "(kristaps)-[:PLAYS_FOR {salary: 26000000}]-> (mavericks),\n",
        "(kevin)-[:PLAYS_FOR {salary: 45000000}]-> (nets),\n",
        "(james)-[:PLAYS_FOR{salary: 4200000}]-> (nets),\n",
        "(giannis)-[:PLAYS_FOR {salary: 47000000}]-> (bucks),\n",
        "(khris)-[:PLAYS_FOR {salary: 43000000}]-> (bucks),\n",
        "(joel)-[:PLAYS_FOR {salary: 4000000}]-> (sixers),\n",
        "(tobias)-[:PLAYS_FOR {salary: 4000000}]-> (sixers),\n",
        "\n",
        "(frank)-[:COACHES_FOR]->(lakers),\n",
        "(taylor)-[:COACHES_FOR]->(memphis),\n",
        "(jason)-[:COACHES_FOR]->(mavericks),\n",
        "(steve)-[:COACHES_FOR]->(nets),\n",
        "(mike)-[:COACHES_FOR]->(bucks),\n",
        "(doc)-[:COACHES_FOR]->(sixers),\n",
        "\n",
        "\n",
        "(lebron)-[:PLAYED_AGAINST {minutes: 38, points: 32, assists: 6, rebounds: 6, turnovers: 2}]-> (memphis),\n",
        "(russell)-[:PLAYED_AGAINST {minutes: 29, points: 16, assists: 12, rebounds: 11, turnovers: 16}]-> (memphis),\n",
        "(anthony)-[:PLAYED_AGAINST {minutes: 36, points: 27, assists: 2, rebounds: 8, turnovers: 1}]-> (memphis),\n",
        "(ja)-[:PLAYED_AGAINST {minutes: 43, points: 42, assists: 7, rebounds: 8, turnovers: 4}]-> (lakers),\n",
        "\n",
        "(lebron)-[:PLAYED_AGAINST {minutes: 23, points: 25, assists: 12, rebounds: 3, turnovers: 0}]-> (memphis),\n",
        "(russell)-[:PLAYED_AGAINST {minutes: 20, points: 11, assists: 10, rebounds: 3, turnovers: 8}]-> (memphis),\n",
        "(anthony)-[:PLAYED_AGAINST {minutes: 30, points: 22, assists: 2, rebounds: 8, turnovers: 1}]-> (memphis),\n",
        "(ja)-[:PLAYED_AGAINST {minutes: 35, points: 35, assists: 3, rebounds: 4, turnovers: 2}]-> (lakers),\n",
        "\n",
        "(lebron)-[:PLAYED_AGAINST {minutes: 32, points: 18, assists: 3, rebounds: 6, turnovers: 1}]-> (nets),\n",
        "(russell)-[:PLAYED_AGAINST {minutes: 26, points: 26, assists: 11, rebounds: 13, turnovers: 6}]-> (nets),\n",
        "(anthony)-[:PLAYED_AGAINST {minutes: 30, points: 26, assists: 7, rebounds: 18, turnovers: 3}]-> (nets),\n",
        "(kevin)-[:PLAYED_AGAINST {minutes: 43, points: 45, assists: 5, rebounds: 8, turnovers: 2}]-> (lakers),\n",
        "(james)-[:PLAYED_AGAINST {minutes: 46, points: 35, assists: 13, rebounds: 4, turnovers: 7}]-> (lakers),\n",
        "\n",
        "(kevin)-[:PLAYED_AGAINST {minutes: 34, points: 37, assists: 2, rebounds: 12, turnovers: 1}]-> (memphis),\n",
        "(james)-[:PLAYED_AGAINST {minutes: 46, points: 35, assists: 13, rebounds: 4, turnovers: 7}]-> (memphis),\n",
        "(ja)-[:PLAYED_AGAINST {minutes: 26, points: 32, assists: 13, rebounds: 6, turnovers: 2}]-> (nets),\n",
        "\n",
        "\n",
        "(luka)-[:PLAYED_AGAINST {minutes: 44, points: 23, assists: 7, rebounds: 13, turnovers: 8}]-> (bucks),\n",
        "(kristaps)-[:PLAYED_AGAINST {minutes: 24, points: 16, assists: 2, rebounds: 12, turnovers: 0}]-> (bucks),\n",
        "(giannis)-[:PLAYED_AGAINST {minutes: 33, points: 26, assists: 16, rebounds: 18, turnovers: 5}]-> (mavericks),\n",
        "(khris)-[:PLAYED_AGAINST {minutes: 46, points: 35, assists: 3, rebounds: 4, turnovers: 3}]-> (mavericks),\n",
        "\n",
        "(luka)-[:PLAYED_AGAINST {minutes: 33, points: 28, assists: 6, rebounds: 3, turnovers: 3}]-> (sixers),\n",
        "(kristaps)-[:PLAYED_AGAINST {minutes: 24, points: 18, assists: 4, rebounds: 11, turnovers: 1}]-> (sixers),\n",
        "(joel)-[:PLAYED_AGAINST {minutes: 25, points: 29, assists: 7, rebounds: 22, turnovers: 2}]-> (mavericks),\n",
        "(tobias)-[:PLAYED_AGAINST {minutes: 34, points: 18, assists: 13, rebounds: 4, turnovers: 0}]-> (mavericks),\n",
        "\n",
        "(giannis)-[:PLAYED_AGAINST {minutes: 45, points: 36, assists: 5, rebounds: 12, turnovers: 3}]-> (sixers),\n",
        "(khris)-[:PLAYED_AGAINST {minutes: 35, points: 22, assists: 5, rebounds: 6, turnovers: 0}]-> (sixers),\n",
        "(joel)-[:PLAYED_AGAINST {minutes: 33, points: 23, assists: 3, rebounds: 10, turnovers: 3}]-> (bucks),\n",
        "(tobias)-[:PLAYED_AGAINST {minutes: 38, points: 23, assists: 4, rebounds: 5, turnovers: 1}]-> (bucks),\n",
        "\n",
        "(kevin)-[:PLAYED_AGAINST {minutes: 29, points: 28, assists: 6, rebounds: 8, turnovers: 0}]-> (mavericks),\n",
        "(james)-[:PLAYED_AGAINST {minutes: 35, points: 17, assists: 10, rebounds: 8, turnovers: 5}]-> (mavericks),\n",
        "(luka)-[:PLAYED_AGAINST {minutes: 37, points: 35, assists: 6, rebounds: 11, turnovers: 4}]-> (nets),\n",
        "(kristaps)-[:PLAYED_AGAINST {minutes: 34, points: 27, assists: 4, rebounds: 8, turnovers: 0}]-> (nets),\n",
        "\n",
        "(lebron)-[:PLAYED_AGAINST {minutes: 32, points: 27, assists: 12, rebounds: 10, turnovers: 4}]-> (sixers),\n",
        "(russell)-[:PLAYED_AGAINST {minutes: 25, points: 19, assists: 9, rebounds: 14, turnovers: 5}]-> (sixers),\n",
        "(anthony)-[:PLAYED_AGAINST {minutes: 32, points: 22, assists: 7, rebounds: 12, turnovers: 2}]-> (sixers),\n",
        "(joel)-[:PLAYED_AGAINST {minutes: 36, points: 36, assists: 7, rebounds: 12, turnovers: 0}]-> (lakers),\n",
        "(tobias)-[:PLAYED_AGAINST {minutes: 32, points: 22, assists: 1, rebounds: 7, turnovers: 0}]-> (lakers);\n",
        "\"\"\"\n",
        "\n",
        "result = run_query(query)\n",
        "print(result)"
      ],
      "metadata": {
        "id": "e8mxjy-T1Jaj",
        "colab": {
          "base_uri": "https://localhost:8080/"
        },
        "outputId": "6bf3fcde-e0b2-4887-8473-c952165a8298"
      },
      "execution_count": 11,
      "outputs": [
        {
          "output_type": "stream",
          "name": "stdout",
          "text": [
            "[]\n"
          ]
        }
      ]
    },
    {
      "cell_type": "code",
      "source": [
        "query = \"\"\"\n",
        "        MATCH (player:PLAYER)\n",
        "        WHERE player.weight >= 100 AND player.height <= 2\n",
        "        RETURN player\n",
        "        \"\"\"\n",
        "result = run_query(query)\n",
        "print(result)"
      ],
      "metadata": {
        "id": "99Q2kLMgNRXo",
        "outputId": "96b6cdb6-2558-4443-c950-b144df70a1eb",
        "colab": {
          "base_uri": "https://localhost:8080/"
        }
      },
      "execution_count": 16,
      "outputs": [
        {
          "output_type": "stream",
          "name": "stdout",
          "text": [
            "[{'player': <Node element_id='4:d95f64b4-95a9-4980-aa52-63a837dae1f4:7' labels=frozenset({'PLAYER'}) properties={'number': 13, 'name': 'James Harden', 'weight': 100, 'age': 32, 'height': 1.96}>}]\n"
          ]
        }
      ]
    },
    {
      "cell_type": "code",
      "source": [
        "query = \"\"\"\n",
        "        MATCH (player:PLAYER) - [:PLAYS_FOR] -> (team:TEAM)\n",
        "        WHERE team.name = \"LA Lakers\" OR team.name = team.name = \"Dallas Mavericks\"\n",
        "        RETURN player, team\n",
        "        \"\"\"\n",
        "result = run_query(query)\n",
        "print(result)"
      ],
      "metadata": {
        "id": "fmiAx6zAOK-d",
        "outputId": "afa2f64a-d545-4518-8f83-4630e76de5a7",
        "colab": {
          "base_uri": "https://localhost:8080/"
        }
      },
      "execution_count": 17,
      "outputs": [
        {
          "output_type": "stream",
          "name": "stdout",
          "text": [
            "[{'player': <Node element_id='4:d95f64b4-95a9-4980-aa52-63a837dae1f4:0' labels=frozenset({'PLAYER'}) properties={'number': 0, 'name': 'Russell Westbrook', 'weight': 91, 'age': 33, 'height': 1.91}>, 'team': <Node element_id='4:d95f64b4-95a9-4980-aa52-63a837dae1f4:19' labels=frozenset({'TEAM'}) properties={'name': 'LA Lakers'}>}, {'player': <Node element_id='4:d95f64b4-95a9-4980-aa52-63a837dae1f4:1' labels=frozenset({'PLAYER'}) properties={'number': 6, 'name': 'LeBron James', 'weight': 113, 'age': 36, 'height': 2.06}>, 'team': <Node element_id='4:d95f64b4-95a9-4980-aa52-63a837dae1f4:19' labels=frozenset({'TEAM'}) properties={'name': 'LA Lakers'}>}, {'player': <Node element_id='4:d95f64b4-95a9-4980-aa52-63a837dae1f4:2' labels=frozenset({'PLAYER'}) properties={'number': 23, 'name': 'Anthony Davis', 'weight': 115, 'age': 28, 'height': 2.08}>, 'team': <Node element_id='4:d95f64b4-95a9-4980-aa52-63a837dae1f4:19' labels=frozenset({'TEAM'}) properties={'name': 'LA Lakers'}>}, {'player': <Node element_id='4:d95f64b4-95a9-4980-aa52-63a837dae1f4:4' labels=frozenset({'PLAYER'}) properties={'number': 77, 'name': 'Luka Doncic', 'weight': 104, 'age': 22, 'height': 2.01}>, 'team': <Node element_id='4:d95f64b4-95a9-4980-aa52-63a837dae1f4:21' labels=frozenset({'TEAM'}) properties={'name': 'Dallas Mavericks'}>}, {'player': <Node element_id='4:d95f64b4-95a9-4980-aa52-63a837dae1f4:5' labels=frozenset({'PLAYER'}) properties={'number': 6, 'name': 'Kristaps Porzingis', 'weight': 109, 'age': 26, 'height': 2.21}>, 'team': <Node element_id='4:d95f64b4-95a9-4980-aa52-63a837dae1f4:21' labels=frozenset({'TEAM'}) properties={'name': 'Dallas Mavericks'}>}]\n"
          ]
        }
      ]
    },
    {
      "cell_type": "code",
      "source": [
        "query = \"\"\"\n",
        "        MATCH (p:PLAYER)\n",
        "        RETURN p\n",
        "        \"\"\"\n",
        "result = run_query(query)\n",
        "print(result)"
      ],
      "metadata": {
        "id": "P1HWaa38VX7j",
        "colab": {
          "base_uri": "https://localhost:8080/"
        },
        "outputId": "8743b542-b74e-4599-a0c3-f15a4695c2f9"
      },
      "execution_count": 15,
      "outputs": [
        {
          "output_type": "stream",
          "name": "stdout",
          "text": [
            "[{'p': <Node element_id='4:d95f64b4-95a9-4980-aa52-63a837dae1f4:0' labels=frozenset({'PLAYER'}) properties={'number': 0, 'name': 'Russell Westbrook', 'weight': 91, 'age': 33, 'height': 1.91}>}, {'p': <Node element_id='4:d95f64b4-95a9-4980-aa52-63a837dae1f4:1' labels=frozenset({'PLAYER'}) properties={'number': 6, 'name': 'LeBron James', 'weight': 113, 'age': 36, 'height': 2.06}>}, {'p': <Node element_id='4:d95f64b4-95a9-4980-aa52-63a837dae1f4:2' labels=frozenset({'PLAYER'}) properties={'number': 23, 'name': 'Anthony Davis', 'weight': 115, 'age': 28, 'height': 2.08}>}, {'p': <Node element_id='4:d95f64b4-95a9-4980-aa52-63a837dae1f4:3' labels=frozenset({'PLAYER'}) properties={'number': 12, 'name': 'Ja Morant', 'weight': 79, 'age': 22, 'height': 1.91}>}, {'p': <Node element_id='4:d95f64b4-95a9-4980-aa52-63a837dae1f4:4' labels=frozenset({'PLAYER'}) properties={'number': 77, 'name': 'Luka Doncic', 'weight': 104, 'age': 22, 'height': 2.01}>}, {'p': <Node element_id='4:d95f64b4-95a9-4980-aa52-63a837dae1f4:5' labels=frozenset({'PLAYER'}) properties={'number': 6, 'name': 'Kristaps Porzingis', 'weight': 109, 'age': 26, 'height': 2.21}>}, {'p': <Node element_id='4:d95f64b4-95a9-4980-aa52-63a837dae1f4:6' labels=frozenset({'PLAYER'}) properties={'number': 7, 'name': 'Kevin Durant', 'weight': 109, 'age': 33, 'height': 2.08}>}, {'p': <Node element_id='4:d95f64b4-95a9-4980-aa52-63a837dae1f4:7' labels=frozenset({'PLAYER'}) properties={'number': 13, 'name': 'James Harden', 'weight': 100, 'age': 32, 'height': 1.96}>}, {'p': <Node element_id='4:d95f64b4-95a9-4980-aa52-63a837dae1f4:8' labels=frozenset({'PLAYER'}) properties={'number': 34, 'name': 'Giannis Antetokounmpo', 'weight': 110, 'age': 26, 'height': 2.11}>}, {'p': <Node element_id='4:d95f64b4-95a9-4980-aa52-63a837dae1f4:9' labels=frozenset({'PLAYER'}) properties={'number': 22, 'name': 'Khris Middleton', 'weight': 100, 'age': 30, 'height': 2.01}>}, {'p': <Node element_id='4:d95f64b4-95a9-4980-aa52-63a837dae1f4:10' labels=frozenset({'PLAYER'}) properties={'number': 21, 'name': 'Joel Embiid', 'weight': 127, 'age': 27, 'height': 2.13}>}, {'p': <Node element_id='4:d95f64b4-95a9-4980-aa52-63a837dae1f4:11' labels=frozenset({'PLAYER'}) properties={'number': 22, 'name': 'Tobias Harris', 'weight': 100, 'age': 29, 'height': 2.03}>}]\n"
          ]
        }
      ]
    },
    {
      "cell_type": "code",
      "source": [
        "!pip install together\n",
        "\n",
        "from together import Together\n",
        "client = Together(api_key=userdata.get(\"2_7Qmvbz6bu0FdVDg4UdAm6JQrrzb6A-iYc7w30DRYg\"))"
      ],
      "metadata": {
        "id": "9-97PhC5Vr3L",
        "colab": {
          "base_uri": "https://localhost:8080/",
          "height": 914
        },
        "outputId": "c7165ba5-ab1e-4dc6-84f2-aa0919b2d842"
      },
      "execution_count": 13,
      "outputs": [
        {
          "output_type": "stream",
          "name": "stdout",
          "text": [
            "Collecting together\n",
            "  Downloading together-1.2.7-py3-none-any.whl.metadata (11 kB)\n",
            "Requirement already satisfied: aiohttp<4.0.0,>=3.9.3 in /usr/local/lib/python3.10/dist-packages (from together) (3.10.2)\n",
            "Requirement already satisfied: click<9.0.0,>=8.1.7 in /usr/local/lib/python3.10/dist-packages (from together) (8.1.7)\n",
            "Requirement already satisfied: eval-type-backport<0.3.0,>=0.1.3 in /usr/local/lib/python3.10/dist-packages (from together) (0.2.0)\n",
            "Requirement already satisfied: filelock<4.0.0,>=3.13.1 in /usr/local/lib/python3.10/dist-packages (from together) (3.15.4)\n",
            "Requirement already satisfied: numpy>=1.23.5 in /usr/local/lib/python3.10/dist-packages (from together) (1.26.4)\n",
            "Collecting pillow<11.0.0,>=10.3.0 (from together)\n",
            "  Downloading pillow-10.4.0-cp310-cp310-manylinux_2_28_x86_64.whl.metadata (9.2 kB)\n",
            "Requirement already satisfied: pyarrow>=10.0.1 in /usr/local/lib/python3.10/dist-packages (from together) (14.0.2)\n",
            "Requirement already satisfied: pydantic<3.0.0,>=2.6.3 in /usr/local/lib/python3.10/dist-packages (from together) (2.8.2)\n",
            "Requirement already satisfied: requests<3.0.0,>=2.31.0 in /usr/local/lib/python3.10/dist-packages (from together) (2.32.3)\n",
            "Requirement already satisfied: tabulate<0.10.0,>=0.9.0 in /usr/local/lib/python3.10/dist-packages (from together) (0.9.0)\n",
            "Requirement already satisfied: tqdm<5.0.0,>=4.66.2 in /usr/local/lib/python3.10/dist-packages (from together) (4.66.5)\n",
            "Requirement already satisfied: typer<0.13,>=0.9 in /usr/local/lib/python3.10/dist-packages (from together) (0.12.3)\n",
            "Requirement already satisfied: aiohappyeyeballs>=2.3.0 in /usr/local/lib/python3.10/dist-packages (from aiohttp<4.0.0,>=3.9.3->together) (2.3.5)\n",
            "Requirement already satisfied: aiosignal>=1.1.2 in /usr/local/lib/python3.10/dist-packages (from aiohttp<4.0.0,>=3.9.3->together) (1.3.1)\n",
            "Requirement already satisfied: attrs>=17.3.0 in /usr/local/lib/python3.10/dist-packages (from aiohttp<4.0.0,>=3.9.3->together) (24.2.0)\n",
            "Requirement already satisfied: frozenlist>=1.1.1 in /usr/local/lib/python3.10/dist-packages (from aiohttp<4.0.0,>=3.9.3->together) (1.4.1)\n",
            "Requirement already satisfied: multidict<7.0,>=4.5 in /usr/local/lib/python3.10/dist-packages (from aiohttp<4.0.0,>=3.9.3->together) (6.0.5)\n",
            "Requirement already satisfied: yarl<2.0,>=1.0 in /usr/local/lib/python3.10/dist-packages (from aiohttp<4.0.0,>=3.9.3->together) (1.9.4)\n",
            "Requirement already satisfied: async-timeout<5.0,>=4.0 in /usr/local/lib/python3.10/dist-packages (from aiohttp<4.0.0,>=3.9.3->together) (4.0.3)\n",
            "Requirement already satisfied: annotated-types>=0.4.0 in /usr/local/lib/python3.10/dist-packages (from pydantic<3.0.0,>=2.6.3->together) (0.7.0)\n",
            "Requirement already satisfied: pydantic-core==2.20.1 in /usr/local/lib/python3.10/dist-packages (from pydantic<3.0.0,>=2.6.3->together) (2.20.1)\n",
            "Requirement already satisfied: typing-extensions>=4.6.1 in /usr/local/lib/python3.10/dist-packages (from pydantic<3.0.0,>=2.6.3->together) (4.12.2)\n",
            "Requirement already satisfied: charset-normalizer<4,>=2 in /usr/local/lib/python3.10/dist-packages (from requests<3.0.0,>=2.31.0->together) (3.3.2)\n",
            "Requirement already satisfied: idna<4,>=2.5 in /usr/local/lib/python3.10/dist-packages (from requests<3.0.0,>=2.31.0->together) (3.7)\n",
            "Requirement already satisfied: urllib3<3,>=1.21.1 in /usr/local/lib/python3.10/dist-packages (from requests<3.0.0,>=2.31.0->together) (2.0.7)\n",
            "Requirement already satisfied: certifi>=2017.4.17 in /usr/local/lib/python3.10/dist-packages (from requests<3.0.0,>=2.31.0->together) (2024.7.4)\n",
            "Requirement already satisfied: shellingham>=1.3.0 in /usr/local/lib/python3.10/dist-packages (from typer<0.13,>=0.9->together) (1.5.4)\n",
            "Requirement already satisfied: rich>=10.11.0 in /usr/local/lib/python3.10/dist-packages (from typer<0.13,>=0.9->together) (13.7.1)\n",
            "Requirement already satisfied: markdown-it-py>=2.2.0 in /usr/local/lib/python3.10/dist-packages (from rich>=10.11.0->typer<0.13,>=0.9->together) (3.0.0)\n",
            "Requirement already satisfied: pygments<3.0.0,>=2.13.0 in /usr/local/lib/python3.10/dist-packages (from rich>=10.11.0->typer<0.13,>=0.9->together) (2.16.1)\n",
            "Requirement already satisfied: mdurl~=0.1 in /usr/local/lib/python3.10/dist-packages (from markdown-it-py>=2.2.0->rich>=10.11.0->typer<0.13,>=0.9->together) (0.1.2)\n",
            "Downloading together-1.2.7-py3-none-any.whl (62 kB)\n",
            "\u001b[2K   \u001b[90m━━━━━━━━━━━━━━━━━━━━━━━━━━━━━━━━━━━━━━━━\u001b[0m \u001b[32m62.9/62.9 kB\u001b[0m \u001b[31m1.6 MB/s\u001b[0m eta \u001b[36m0:00:00\u001b[0m\n",
            "\u001b[?25hDownloading pillow-10.4.0-cp310-cp310-manylinux_2_28_x86_64.whl (4.5 MB)\n",
            "\u001b[2K   \u001b[90m━━━━━━━━━━━━━━━━━━━━━━━━━━━━━━━━━━━━━━━━\u001b[0m \u001b[32m4.5/4.5 MB\u001b[0m \u001b[31m45.5 MB/s\u001b[0m eta \u001b[36m0:00:00\u001b[0m\n",
            "\u001b[?25hInstalling collected packages: pillow, together\n",
            "  Attempting uninstall: pillow\n",
            "    Found existing installation: Pillow 9.4.0\n",
            "    Uninstalling Pillow-9.4.0:\n",
            "      Successfully uninstalled Pillow-9.4.0\n",
            "Successfully installed pillow-10.4.0 together-1.2.7\n"
          ]
        },
        {
          "output_type": "display_data",
          "data": {
            "application/vnd.colab-display-data+json": {
              "pip_warning": {
                "packages": [
                  "PIL"
                ]
              },
              "id": "da3972d0b8574bf1a3a5f1a0a8f2b6e8"
            }
          },
          "metadata": {}
        }
      ]
    },
    {
      "cell_type": "code",
      "source": [
        "import re\n",
        "\n",
        "prompt = \"give me a cypher query for a neo4j database for the following natural language query, use PLAYER in capital letter FOR NODES, return only the query in square bracket,  and dont comment on anything else\"\n",
        "stream = client.chat.completions.create(\n",
        "model=\"mistralai/Mixtral-8x7B-Instruct-v0.1\",\n",
        "messages=[{\"role\": \"user\", \"content\": prompt + \"return list of all players\"}],\n",
        "stream=True,\n",
        ")\n",
        "query = \"\"\" MATCH (player:PLAYER)\n",
        "            WHERE player.weight >= 800 AND player.height <= 2\n",
        "            RETURN player\n",
        "        \"\"\"\n",
        "for chunk in stream:\n",
        "  query += chunk.choices[0].delta.content or \"\"\n",
        "  print(chunk.choices[0].delta.content or \"\", end=\"\", flush=True)\n",
        "\n",
        "# print(query)\n",
        "matches = re.findall(r'\\[.*?\\]', query, re.DOTALL)\n",
        "print('matches\\n',matches)\n",
        "clean_text = matches[0][1:-1]\n",
        "print('cleaned text\\n',clean_text)\n",
        "\n",
        "result = run_query(clean_text)\n",
        "print('result\\n',result)\n",
        "\n"
      ],
      "metadata": {
        "colab": {
          "base_uri": "https://localhost:8080/"
        },
        "id": "cHH1RxVMWZP-",
        "outputId": "ec8e3fec-5a87-40da-8001-8ce02da71610"
      },
      "execution_count": 24,
      "outputs": [
        {
          "output_type": "stream",
          "name": "stdout",
          "text": [
            " [\n",
            "MATCH (p:PLAYER)\n",
            "RETURN p\n",
            "]matches\n",
            " ['[\\nMATCH (p:PLAYER)\\nRETURN p\\n]']\n",
            "cleaned text\n",
            " \n",
            "MATCH (p:PLAYER)\n",
            "RETURN p\n",
            "\n",
            "result\n",
            " [{'p': <Node element_id='4:d95f64b4-95a9-4980-aa52-63a837dae1f4:0' labels=frozenset({'PLAYER'}) properties={'number': 0, 'name': 'Russell Westbrook', 'weight': 91, 'age': 33, 'height': 1.91}>}, {'p': <Node element_id='4:d95f64b4-95a9-4980-aa52-63a837dae1f4:1' labels=frozenset({'PLAYER'}) properties={'number': 6, 'name': 'LeBron James', 'weight': 113, 'age': 36, 'height': 2.06}>}, {'p': <Node element_id='4:d95f64b4-95a9-4980-aa52-63a837dae1f4:2' labels=frozenset({'PLAYER'}) properties={'number': 23, 'name': 'Anthony Davis', 'weight': 115, 'age': 28, 'height': 2.08}>}, {'p': <Node element_id='4:d95f64b4-95a9-4980-aa52-63a837dae1f4:3' labels=frozenset({'PLAYER'}) properties={'number': 12, 'name': 'Ja Morant', 'weight': 79, 'age': 22, 'height': 1.91}>}, {'p': <Node element_id='4:d95f64b4-95a9-4980-aa52-63a837dae1f4:4' labels=frozenset({'PLAYER'}) properties={'number': 77, 'name': 'Luka Doncic', 'weight': 104, 'age': 22, 'height': 2.01}>}, {'p': <Node element_id='4:d95f64b4-95a9-4980-aa52-63a837dae1f4:5' labels=frozenset({'PLAYER'}) properties={'number': 6, 'name': 'Kristaps Porzingis', 'weight': 109, 'age': 26, 'height': 2.21}>}, {'p': <Node element_id='4:d95f64b4-95a9-4980-aa52-63a837dae1f4:6' labels=frozenset({'PLAYER'}) properties={'number': 7, 'name': 'Kevin Durant', 'weight': 109, 'age': 33, 'height': 2.08}>}, {'p': <Node element_id='4:d95f64b4-95a9-4980-aa52-63a837dae1f4:7' labels=frozenset({'PLAYER'}) properties={'number': 13, 'name': 'James Harden', 'weight': 100, 'age': 32, 'height': 1.96}>}, {'p': <Node element_id='4:d95f64b4-95a9-4980-aa52-63a837dae1f4:8' labels=frozenset({'PLAYER'}) properties={'number': 34, 'name': 'Giannis Antetokounmpo', 'weight': 110, 'age': 26, 'height': 2.11}>}, {'p': <Node element_id='4:d95f64b4-95a9-4980-aa52-63a837dae1f4:9' labels=frozenset({'PLAYER'}) properties={'number': 22, 'name': 'Khris Middleton', 'weight': 100, 'age': 30, 'height': 2.01}>}, {'p': <Node element_id='4:d95f64b4-95a9-4980-aa52-63a837dae1f4:10' labels=frozenset({'PLAYER'}) properties={'number': 21, 'name': 'Joel Embiid', 'weight': 127, 'age': 27, 'height': 2.13}>}, {'p': <Node element_id='4:d95f64b4-95a9-4980-aa52-63a837dae1f4:11' labels=frozenset({'PLAYER'}) properties={'number': 22, 'name': 'Tobias Harris', 'weight': 100, 'age': 29, 'height': 2.03}>}]\n"
          ]
        }
      ]
    },
    {
      "cell_type": "markdown",
      "source": [
        "## Visualization"
      ],
      "metadata": {
        "id": "rxLeKkkGgFoC"
      }
    }
  ]
}